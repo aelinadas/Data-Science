{
 "cells": [
  {
   "cell_type": "code",
   "execution_count": null,
   "metadata": {},
   "outputs": [
    {
     "name": "stdout",
     "output_type": "stream",
     "text": [
      "Requirement already satisfied: pandas_datareader in /Users/aelinadas/opt/anaconda3/lib/python3.7/site-packages (0.8.1)\n",
      "Requirement already satisfied: requests>=2.3.0 in /Users/aelinadas/opt/anaconda3/lib/python3.7/site-packages (from pandas_datareader) (2.22.0)\n",
      "Requirement already satisfied: lxml in /Users/aelinadas/opt/anaconda3/lib/python3.7/site-packages (from pandas_datareader) (4.4.1)\n",
      "Requirement already satisfied: pandas>=0.21 in /Users/aelinadas/opt/anaconda3/lib/python3.7/site-packages (from pandas_datareader) (0.25.1)\n",
      "Requirement already satisfied: chardet<3.1.0,>=3.0.2 in /Users/aelinadas/opt/anaconda3/lib/python3.7/site-packages (from requests>=2.3.0->pandas_datareader) (3.0.4)\n",
      "Requirement already satisfied: certifi>=2017.4.17 in /Users/aelinadas/opt/anaconda3/lib/python3.7/site-packages (from requests>=2.3.0->pandas_datareader) (2019.9.11)\n",
      "Requirement already satisfied: urllib3!=1.25.0,!=1.25.1,<1.26,>=1.21.1 in /Users/aelinadas/opt/anaconda3/lib/python3.7/site-packages (from requests>=2.3.0->pandas_datareader) (1.24.2)\n",
      "Requirement already satisfied: idna<2.9,>=2.5 in /Users/aelinadas/opt/anaconda3/lib/python3.7/site-packages (from requests>=2.3.0->pandas_datareader) (2.8)\n",
      "Requirement already satisfied: pytz>=2017.2 in /Users/aelinadas/opt/anaconda3/lib/python3.7/site-packages (from pandas>=0.21->pandas_datareader) (2019.3)\n",
      "Requirement already satisfied: numpy>=1.13.3 in /Users/aelinadas/opt/anaconda3/lib/python3.7/site-packages (from pandas>=0.21->pandas_datareader) (1.17.2)\n",
      "Requirement already satisfied: python-dateutil>=2.6.1 in /Users/aelinadas/opt/anaconda3/lib/python3.7/site-packages (from pandas>=0.21->pandas_datareader) (2.8.0)\n",
      "Requirement already satisfied: six>=1.5 in /Users/aelinadas/opt/anaconda3/lib/python3.7/site-packages (from python-dateutil>=2.6.1->pandas>=0.21->pandas_datareader) (1.12.0)\n"
     ]
    }
   ],
   "source": [
    "# Better do this in an anaconda terminal on windows or bash shell on mac\n",
    "!pip install pandas_datareader"
   ]
  },
  {
   "cell_type": "code",
   "execution_count": null,
   "metadata": {},
   "outputs": [],
   "source": []
  }
 ],
 "metadata": {
  "kernelspec": {
   "display_name": "Python 3",
   "language": "python",
   "name": "python3"
  },
  "language_info": {
   "codemirror_mode": {
    "name": "ipython",
    "version": 3
   },
   "file_extension": ".py",
   "mimetype": "text/x-python",
   "name": "python",
   "nbconvert_exporter": "python",
   "pygments_lexer": "ipython3",
   "version": "3.7.4"
  }
 },
 "nbformat": 4,
 "nbformat_minor": 2
}
